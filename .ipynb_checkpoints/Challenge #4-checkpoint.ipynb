{
 "cells": [
  {
   "cell_type": "markdown",
   "metadata": {},
   "source": [
    "### **Day Four: *for loops***\n",
    "\n",
    "Dot's now happily mapped out exactly what supplies they'll need to make the repairs to their new rural abode. They're nearly breathless with anticipation, thinking about how incredible it's going to look! But first, they need to buy the paint and wood. There's so much Dot needs to purchase, they're unsure - should they buy the items at normal retail value, or wholesale? \n",
    "\n",
    "_________"
   ]
  },
  {
   "cell_type": "markdown",
   "metadata": {},
   "source": [
    "### Tutorial\n",
    "\n",
    "In this challenge, you'll need to use a **for loop** to reach the answer. In programming, a **loop** is a block of code that's executed repeatedly, either for a set number of times, or until a certain condition is met. A **for loop** is a loop that is executed for a set number of times, iterated over the number of items in a sequence. To learn more about for loops, read this [article](https://realpython.com/python-for-loop/).\n",
    "\n",
    "```python\n",
    "lst = [1,2,3,4,5]\n",
    "\n",
    "\n",
    "for i in range(len(lst)): \n",
    "    '''insert code'''\n",
    "\n",
    "```\n",
    "\n",
    "In the above code, the [range() function](https://www.w3schools.com/python/ref_func_range.asp) creates a sequence of numbers, and the [len() function](https://www.w3schools.com/python/ref_func_len.asp) outputs the length of a list. "
   ]
  },
  {
   "cell_type": "markdown",
   "metadata": {},
   "source": [
    "\n",
    "\n",
    "### **Day Four: *for loops***\n",
    "\n",
    "Dot's now happily mapped out exactly what supplies they'll need to make the repairs to their new rural abode. They're nearly breathless with anticipation, thinking about how incredible it's going to look! But first, they need to buy the paint and wood. There's so much Dot needs to purchase, they're unsure - should they buy the items at normal retail value, or wholesale? \n",
    "\n",
    "_________\n",
    "### **Day Four: *for loops***\n",
    "​\n",
    "Dot's now happily mapped out exactly what supplies they'll need to make the repairs to their new rural abode. They're nearly breathless with anticipation, thinking about how incredible it's going to look! But first, they need to buy the paint and wood. There's so much Dot needs to purchase, they're unsure - should they buy the items at normal retail value, or wholesale? \n",
    "​\n",
    "_________\n",
    "### Tutorial\n",
    "\n",
    "In this challenge, you'll need to use a **for loop** to reach the answer. In programming, a **loop** is a block of code that's executed repeatedly, either for a set number of times, or until a certain condition is met. A **for loop** is a loop that is executed for a set number of times, iterated over the number of items in a sequence. To learn more about for loops, read this [article](https://realpython.com/python-for-loop/).\n",
    "\n",
    "```python\n",
    "lst = [1,2,3,4,5]\n",
    "\n",
    "\n",
    "for i in range(len(lst)): \n",
    "    '''insert code'''\n",
    "\n",
    "```\n",
    "\n",
    "In the above code, the [range() function](https://www.w3schools.com/python/ref_func_range.asp) creates a sequence of numbers, and the [len() function](https://www.w3schools.com/python/ref_func_len.asp) outputs the length of a list. \n",
    "### Tutorial\n",
    "​\n",
    "In this challenge, you'll need to use a **for loop** to reach the answer. In programming, a **loop** is a block of code that's executed repeatedly, either for a set number of times, or until a certain condition is met. A **for loop** is a loop that is executed for a set number of times, iterated over the number of items in a sequence. To learn more about for loops, read this [article](https://realpython.com/python-for-loop/).\n",
    "​\n",
    "```python\n",
    "lst = [1,2,3,4,5]\n",
    "​\n",
    "​\n",
    "for i in range(len(lst)): \n",
    "    '''insert code'''\n",
    "​\n",
    "```\n",
    "​\n",
    "In the above code, the [range() function](https://www.w3schools.com/python/ref_func_range.asp) creates a sequence of numbers, and the [len() function](https://www.w3schools.com/python/ref_func_len.asp) outputs the length of a list. \n",
    "### Challenge:\n",
    "​\n",
    "Dot needs to purchase:\n",
    "1. 600 planks of Oak Wood\n",
    "2. 150 liters of Blue Paint\n",
    "3. 15 liters of White Paint\n",
    "4. 165 liters of Paint Finish\n",
    "​\n",
    "| Item                    | Needed Amount to Buy | Wholesale Price | Retail Price |\n",
    "|-------------------------|----------------------|-----------------|--------------|\n",
    "| Plank of Oak Wood       | 600                  | \\\\$ 7000           | \\\\$ 12.99       |\n",
    "| 1 Liter of Blue Paint  | 150                  | \\\\$ 1000           | \\\\$ 8.99        |\n",
    "| 1 Liter of White Paint  | 15                   | \\\\$ 1000           | \\\\$ 9.99        |\n",
    "| 1 Liter of Paint Finish | 165                  | \\\\$ 800            | \\\\$ 3.99        |\n",
    "​\n",
    "**Use a loop to determine the price Dot would pay for purchasing supplies at the retail price. Based on that calculation, which itmes should Dot buy at retail vs. wholesale?**\n",
    "​\n",
    "**Note:** Assume the wholesale price covers all the supply Dot needs for each item, whereas the retail price is per single unit.\n"
   ]
  },
  {
   "cell_type": "code",
   "execution_count": 10,
   "metadata": {},
   "outputs": [
    {
     "name": "stdout",
     "output_type": "stream",
     "text": [
      "[7000, 1000, 1000, 800]\n",
      "[7794.0, 1348.5, 149.85, 658.35]\n",
      "[False, False, True, True]\n"
     ]
    }
   ],
   "source": [
    "item_list = ['Oak Wood', 'Blue Paint', 'White Paint', 'Paint Finish']\n",
    "\n",
    "amount_list = [600,150,15,165]\n",
    "\n",
    "wholesale_price_list = [7000, 1000, 1000, 800]\n",
    "\n",
    "retail_price = [12.99, 8.99, 9.99, 3.99]\n",
    "\n",
    "\n",
    "def calculateRetail(amount, price):\n",
    "    list = []\n",
    "    counter = 0\n",
    "    for a in amount:\n",
    "        list.append(a * price[counter])\n",
    "        counter +=1\n",
    "    return list\n",
    "\n",
    "def buyOrNot(wholesale, retail):\n",
    "    counter = 0\n",
    "    list = []\n",
    "    for a in wholesale:\n",
    "        #if wholesale is greater (true), then they should buy retail\n",
    "        list.append(a > retail[counter])\n",
    "        counter += 1\n",
    "    return list\n",
    "    \n",
    "retail_price_list = calculateRetail(amount_list, retail_price)\n",
    "        \n",
    "\n",
    "print((wholesale_price_list))\n",
    "print(retail_price_list)\n",
    "print(buyOrNot(wholesale_price_list, retail_price_list))"
   ]
  },
  {
   "cell_type": "code",
   "execution_count": null,
   "metadata": {},
   "outputs": [],
   "source": []
  }
 ],
 "metadata": {
  "kernelspec": {
   "display_name": "Python 3",
   "language": "python",
   "name": "python3"
  },
  "language_info": {
   "codemirror_mode": {
    "name": "ipython",
    "version": 3
   },
   "file_extension": ".py",
   "mimetype": "text/x-python",
   "name": "python",
   "nbconvert_exporter": "python",
   "pygments_lexer": "ipython3",
   "version": "3.8.5"
  }
 },
 "nbformat": 4,
 "nbformat_minor": 4
}
